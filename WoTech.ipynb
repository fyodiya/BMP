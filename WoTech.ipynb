{
  "nbformat": 4,
  "nbformat_minor": 0,
  "metadata": {
    "colab": {
      "provenance": [],
      "authorship_tag": "ABX9TyPeTD4WlN5JUmR5GBKBo72U",
      "include_colab_link": true
    },
    "kernelspec": {
      "name": "python3",
      "display_name": "Python 3"
    },
    "language_info": {
      "name": "python"
    }
  },
  "cells": [
    {
      "cell_type": "markdown",
      "metadata": {
        "id": "view-in-github",
        "colab_type": "text"
      },
      "source": [
        "<a href=\"https://colab.research.google.com/github/fyodiya/BMP/blob/master/WoTech.ipynb\" target=\"_parent\"><img src=\"https://colab.research.google.com/assets/colab-badge.svg\" alt=\"Open In Colab\"/></a>"
      ]
    },
    {
      "cell_type": "code",
      "execution_count": 13,
      "metadata": {
        "colab": {
          "base_uri": "https://localhost:8080/"
        },
        "id": "DKbajZw8YQIS",
        "outputId": "88a9efa5-92a5-4a29-d424-b3a83f8d461f"
      },
      "outputs": [
        {
          "output_type": "stream",
          "name": "stdout",
          "text": [
            "Hello!\n",
            "14\n",
            "we use so called snake case\n"
          ]
        }
      ],
      "source": [
        "greeting = \"Hello!\"\n",
        "print(greeting) #comment - there are no ; at the end of the lines\n",
        "\n",
        "data = 14\n",
        "print(data)\n",
        "\n",
        "#code is being read from top to bottom\n",
        "\n",
        "this_is_a_variable = \"we use so called snake case\"\n",
        "print(this_is_a_variable)\n",
        "\n",
        "#Python is object-based and object-oriented\n",
        "#everything we define is AN OBJECT\n",
        "\n"
      ]
    },
    {
      "cell_type": "code",
      "source": [
        "name = \"Elina\"\n",
        "surname = \"Fjodorova\"\n",
        "age = 32\n",
        "occupation = \"metrologist\"\n",
        "university_graduate = True\n",
        "height = 1.67\n",
        "#basic data types\n",
        "\n",
        "print(name, surname, age, occupation, university_graduate, height)\n",
        "#output: Elina Fjodorova 32 metrologist True 1.67\n",
        "\n",
        "print(f\"Full name:{name} {surname}\\nOccupation: {occupation}\\nUniversity degree: {university_graduate}\")\n",
        "#f = formatted\n",
        "#output - each var on a new line\n",
        "\n",
        "\n"
      ],
      "metadata": {
        "colab": {
          "base_uri": "https://localhost:8080/"
        },
        "id": "UatWS0BlfahO",
        "outputId": "1f77aa18-d854-4202-d84c-0c2402960a9b"
      },
      "execution_count": 18,
      "outputs": [
        {
          "output_type": "stream",
          "name": "stdout",
          "text": [
            "Elina Fjodorova 32 metrologist True 1.67\n",
            "Full name:Elina Fjodorova\n",
            "Occupation: metrologist\n",
            "University degree: True\n"
          ]
        }
      ]
    },
    {
      "cell_type": "code",
      "source": [
        "guest_1 = \"Anna\"\n",
        "guest_2 = \"Jennifer\"\n",
        "guest_3 = \"Elza\" #'Elza'\n",
        "\n",
        "print(guest_1, guest_2, guest_3) #output: Anna Jennifer Elza\n",
        "\n",
        "guests = [\"John\", \"Mike\", \"James\", \"Oliver\"]\n",
        "print(guests) #output: ['John', 'Mike', 'James', 'Oliver']\n",
        "\n",
        "for guest in guests:\n",
        "  print(guest)\n",
        "  #output:  John\n",
        "#           Mike\n",
        "#           James\n",
        "#           Oliver\n"
      ],
      "metadata": {
        "colab": {
          "base_uri": "https://localhost:8080/"
        },
        "id": "VI-3cgcgkZfy",
        "outputId": "57b0b3aa-0086-4dc0-a851-f02575009f30"
      },
      "execution_count": 22,
      "outputs": [
        {
          "output_type": "stream",
          "name": "stdout",
          "text": [
            "Anna Jennifer Elza\n",
            "['John', 'Mike', 'James', 'Oliver']\n",
            "John\n",
            "Mike\n",
            "James\n",
            "Oliver\n"
          ]
        }
      ]
    },
    {
      "cell_type": "code",
      "source": [
        "name = \"trees \"*12 #string var\n",
        "#print(name, end=\"\") defining end of string\n",
        "print(name)"
      ],
      "metadata": {
        "colab": {
          "base_uri": "https://localhost:8080/"
        },
        "id": "H6TZL-qkoJlt",
        "outputId": "becb772c-248b-42d8-89f4-ae67fb87dd1a"
      },
      "execution_count": 6,
      "outputs": [
        {
          "output_type": "stream",
          "name": "stdout",
          "text": [
            "trees trees trees trees trees trees trees trees trees trees trees trees \n"
          ]
        }
      ]
    },
    {
      "cell_type": "code",
      "source": [
        "name = input(\"Please enter your name: \")\n",
        "text = \"\"\n",
        "print(f'Hello, {name}! I would like to read the book 'Hamlet' ')"
      ],
      "metadata": {
        "colab": {
          "base_uri": "https://localhost:8080/",
          "height": 108
        },
        "id": "nQx77EaTrqyr",
        "outputId": "c65b233d-bc5e-44bb-a42d-a72f68fe4abd"
      },
      "execution_count": 23,
      "outputs": [
        {
          "output_type": "error",
          "ename": "SyntaxError",
          "evalue": "invalid syntax. Perhaps you forgot a comma? (<ipython-input-23-cc444b952bb5>, line 3)",
          "traceback": [
            "\u001b[0;36m  File \u001b[0;32m\"<ipython-input-23-cc444b952bb5>\"\u001b[0;36m, line \u001b[0;32m3\u001b[0m\n\u001b[0;31m    print(f'Hello, {name}! I would like to read the book 'Hamlet' ')\u001b[0m\n\u001b[0m          ^\u001b[0m\n\u001b[0;31mSyntaxError\u001b[0m\u001b[0;31m:\u001b[0m invalid syntax. Perhaps you forgot a comma?\n"
          ]
        }
      ]
    },
    {
      "cell_type": "code",
      "source": [
        "#requesting user input\n",
        "\n",
        "name = input(\"Please enter your name: \")\n",
        "print(f\"Hello, {name}! Nice to meet you\")\n",
        "#another option\n",
        "print(\"Hello, \", name,\"nice to meet you!\")"
      ],
      "metadata": {
        "colab": {
          "base_uri": "https://localhost:8080/"
        },
        "id": "lIj7TfMEo3_m",
        "outputId": "0e71fbf7-baec-4cc6-bf82-e2b5ad2b18d9"
      },
      "execution_count": 13,
      "outputs": [
        {
          "output_type": "stream",
          "name": "stdout",
          "text": [
            "Please enter your name: el\n",
            "Hello, el! Nice to meet you\n",
            "Hello,  el nice to meet you!\n"
          ]
        }
      ]
    },
    {
      "cell_type": "code",
      "source": [
        "name = \"Anna\"\n",
        "surname = \"Johnson\"\n",
        "print(\"Hello,\", name, \"!\")\n",
        "print(f\"Hello, Anna!\") #hardcoding - a bad practice of coding\n",
        "print(f\"Hello, {name}!\")\n",
        "print(f'{name} wants to read \"Hamlet\".')"
      ],
      "metadata": {
        "colab": {
          "base_uri": "https://localhost:8080/"
        },
        "id": "IO_x5bJls_vd",
        "outputId": "8b8511f6-7dc8-464c-ee72-f3d79666ec7a"
      },
      "execution_count": 3,
      "outputs": [
        {
          "output_type": "stream",
          "name": "stdout",
          "text": [
            "Hello, Anna !\n",
            "Hello, Anna!\n",
            "Hello, Anna!\n",
            "Anna wants to read \"Hamlet\".\n"
          ]
        }
      ]
    },
    {
      "cell_type": "code",
      "source": [
        "#the data type is set when you assign a value to a variable\n",
        "x = 1j #complex\n",
        "x = [\"apple\", \"banana\", \"cherry\"] #list\n",
        "x = (\"apple\", \"banana\", \"cherry\") #tuple\n",
        "x = range(6) #range\n",
        "x = {\"name\" : \"John\", \"age\" : 36} #dict\n",
        "x = {\"apple\", \"banana\", \"cherry\"} #set\n",
        "x = frozenset({\"apple\", \"banana\", \"cherry\"}) #frozen set\n",
        "x = b\"Hello\" #bytes\n",
        "x = None #none type\n",
        "\n",
        "#you can specify the data type\n",
        "x = str(\"Hello World\")\n",
        "x = dict(name=\"John\", age=36)\n"
      ],
      "metadata": {
        "id": "RuVAJvGWzU_A"
      },
      "execution_count": 4,
      "outputs": []
    }
  ]
}